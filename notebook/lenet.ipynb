{
 "cells": [
  {
   "cell_type": "code",
   "execution_count": 1,
   "metadata": {},
   "outputs": [],
   "source": [
    "# implementing lenet - 5 layers\n",
    "# based on https://blog.paperspace.com/writing-lenet5-from-scratch-in-python/"
   ]
  },
  {
   "attachments": {},
   "cell_type": "markdown",
   "metadata": {},
   "source": [
    "![Alt text](https://blog.paperspace.com/content/images/size/w1000/2021/10/image-17.png)"
   ]
  },
  {
   "cell_type": "code",
   "execution_count": 2,
   "metadata": {},
   "outputs": [],
   "source": [
    "# imports \n",
    "import torch \n",
    "import torch.nn as nn \n",
    "import torchvision \n",
    "import torchvision.transforms as transforms\n",
    "import numpy as np\n",
    "\n",
    "batch_size = 64 \n",
    "num_classes = 10 \n",
    "learning_rate = 0.001\n",
    "num_epochs = 10\n",
    "\n",
    "device = torch.device('cuda' if torch.cuda.is_available() else 'mps')\n"
   ]
  },
  {
   "cell_type": "code",
   "execution_count": 3,
   "metadata": {},
   "outputs": [],
   "source": [
    "# dataset\n",
    "transform = transforms.Compose([transforms.Resize((32, 32)), transforms.ToTensor(), transforms.Normalize(mean= (0.1325,), std=(0.3105,))])\n",
    "\n",
    "train_dataset = torchvision.datasets.MNIST(root='alexnet/data', train=True,transform=transform,download=True)\n",
    "test_dataset = torchvision.datasets.MNIST(root='alexnet/data', train=False,transform=transform,download=True)\n",
    "\n",
    "train_loader = torch.utils.data.DataLoader(dataset=train_dataset, batch_size= batch_size, shuffle=True)\n",
    "test_loader = torch.utils.data.DataLoader(dataset=test_dataset, batch_size= batch_size, shuffle=True)"
   ]
  },
  {
   "cell_type": "code",
   "execution_count": 7,
   "metadata": {},
   "outputs": [],
   "source": [
    "# model \n",
    "class LeNet5(nn.Module):\n",
    "    def __init__(self, num_classes): \n",
    "        super(LeNet5, self).__init__()\n",
    "        self.layer1 = nn.Sequential(\n",
    "            nn.Conv2d(1, 6, kernel_size=5, stride=1, padding=0),\n",
    "            nn.BatchNorm2d(6),\n",
    "            nn.ReLU(), \n",
    "            nn.MaxPool2d(kernel_size=2, stride=2)\n",
    "        ) # meaning sequence of operation\n",
    "        self.layer2 = nn.Sequential(\n",
    "            nn.Conv2d(6, 16, kernel_size=5, stride=1, padding=0),\n",
    "            nn.BatchNorm2d(16),\n",
    "            nn.ReLU(), \n",
    "            nn.MaxPool2d(kernel_size=2, stride=2)\n",
    "        )\n",
    "        \n",
    "        self.fc = nn.Linear(400,120)\n",
    "        self.relu = nn.ReLU()\n",
    "        self.fc1 = nn.Linear(120, 84)\n",
    "        self.relu1 = nn.ReLU()\n",
    "        self.fc2 = nn.Linear(84, num_classes)\n",
    "        \n",
    "    def forward(self,x):\n",
    "        out = self.layer1(x)\n",
    "        out = self.layer2(out)\n",
    "        \n",
    "        # reshape\n",
    "        out = out.reshape(out.size(0),-1)\n",
    "        \n",
    "        out = self.fc(out)\n",
    "        out = self.relu(out)\n",
    "        out = self.fc1(out)\n",
    "        out = self.relu1(out)\n",
    "        out = self.fc2(out)\n",
    "        \n",
    "        return out\n",
    "        \n",
    "        \n",
    "        \n",
    "        "
   ]
  },
  {
   "cell_type": "code",
   "execution_count": 8,
   "metadata": {},
   "outputs": [],
   "source": [
    "# hyperparameters\n",
    "model = LeNet5(num_classes=10).to(device)\n",
    "\n",
    "# loss function \n",
    "cost = nn.CrossEntropyLoss()\n",
    "\n",
    "# optimizer \n",
    "optimizer = torch.optim.Adam(model.parameters(), lr= learning_rate)\n"
   ]
  },
  {
   "cell_type": "code",
   "execution_count": 9,
   "metadata": {},
   "outputs": [
    {
     "name": "stdout",
     "output_type": "stream",
     "text": [
      "Epoch [1/10], Step [400/938], Loss: 0.0899\n",
      "Epoch [1/10], Step [800/938], Loss: 0.0403\n",
      "Epoch [2/10], Step [400/938], Loss: 0.0836\n",
      "Epoch [2/10], Step [800/938], Loss: 0.0935\n",
      "Epoch [3/10], Step [400/938], Loss: 0.0022\n",
      "Epoch [3/10], Step [800/938], Loss: 0.0143\n",
      "Epoch [4/10], Step [400/938], Loss: 0.1244\n",
      "Epoch [4/10], Step [800/938], Loss: 0.0155\n",
      "Epoch [5/10], Step [400/938], Loss: 0.0091\n",
      "Epoch [5/10], Step [800/938], Loss: 0.0219\n",
      "Epoch [6/10], Step [400/938], Loss: 0.0045\n",
      "Epoch [6/10], Step [800/938], Loss: 0.0059\n",
      "Epoch [7/10], Step [400/938], Loss: 0.0026\n",
      "Epoch [7/10], Step [800/938], Loss: 0.0306\n",
      "Epoch [8/10], Step [400/938], Loss: 0.0070\n",
      "Epoch [8/10], Step [800/938], Loss: 0.0171\n",
      "Epoch [9/10], Step [400/938], Loss: 0.0036\n",
      "Epoch [9/10], Step [800/938], Loss: 0.0025\n",
      "Epoch [10/10], Step [400/938], Loss: 0.0060\n",
      "Epoch [10/10], Step [800/938], Loss: 0.0833\n"
     ]
    }
   ],
   "source": [
    "# training\n",
    "total_step = len(train_loader)\n",
    "\n",
    "for epoch in range(num_classes): \n",
    "    for i, (images, labels) in enumerate(train_loader):\n",
    "        images = images.to(device)\n",
    "        labels = labels.to(device)\n",
    "        \n",
    "        # forward \n",
    "        outputs = model(images)\n",
    "        loss = cost(outputs, labels)\n",
    "        \n",
    "        # backward \n",
    "        optimizer.zero_grad() \n",
    "        loss.backward()\n",
    "        optimizer.step()\n",
    "        \n",
    "        if (i+1) % 400 == 0: \n",
    "            print ('Epoch [{}/{}], Step [{}/{}], Loss: {:.4f}' .format(epoch+1, num_epochs, i+1, total_step, loss.item()))"
   ]
  },
  {
   "cell_type": "code",
   "execution_count": 11,
   "metadata": {},
   "outputs": [
    {
     "name": "stdout",
     "output_type": "stream",
     "text": [
      "Accuracy of the network on the 10000 test images: 99.22 %\n"
     ]
    }
   ],
   "source": [
    "# testing \n",
    "with torch.no_grad(): \n",
    "    correct = 0 \n",
    "    total = 0 \n",
    "    \n",
    "    for images,labels in test_loader:\n",
    "        images = images.to(device)\n",
    "        labels = labels.to(device)\n",
    "        outputs = model(images)\n",
    "        \n",
    "        _, predicted = torch.max(outputs.data,1)\n",
    "        total+=labels.size(0)\n",
    "        correct += (predicted == labels).sum().item()\n",
    "    \n",
    "    print('Accuracy of the network on the 10000 test images: {} %'.format(100 * correct / total))"
   ]
  },
  {
   "cell_type": "code",
   "execution_count": null,
   "metadata": {},
   "outputs": [],
   "source": []
  }
 ],
 "metadata": {
  "kernelspec": {
   "display_name": "alexnet_env",
   "language": "python",
   "name": "python3"
  },
  "language_info": {
   "codemirror_mode": {
    "name": "ipython",
    "version": 3
   },
   "file_extension": ".py",
   "mimetype": "text/x-python",
   "name": "python",
   "nbconvert_exporter": "python",
   "pygments_lexer": "ipython3",
   "version": "3.10.10"
  },
  "orig_nbformat": 4,
  "vscode": {
   "interpreter": {
    "hash": "f7769c1c2017ccde8031c2bd2cd4c5ffd6a17460e4a888fc2fb888d53e40eafb"
   }
  }
 },
 "nbformat": 4,
 "nbformat_minor": 2
}
