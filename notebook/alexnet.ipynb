{
 "cells": [
  {
   "cell_type": "code",
   "execution_count": null,
   "metadata": {},
   "outputs": [],
   "source": []
  }
 ],
 "metadata": {
  "kernelspec": {
   "display_name": "alexnet_env",
   "language": "python",
   "name": "python3"
  },
  "language_info": {
   "name": "python",
   "version": "3.10.10 (main, Mar 21 2023, 13:41:05) [Clang 14.0.6 ]"
  },
  "orig_nbformat": 4,
  "vscode": {
   "interpreter": {
    "hash": "f7769c1c2017ccde8031c2bd2cd4c5ffd6a17460e4a888fc2fb888d53e40eafb"
   }
  }
 },
 "nbformat": 4,
 "nbformat_minor": 2
}
